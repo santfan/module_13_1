{
  "nbformat": 4,
  "nbformat_minor": 0,
  "metadata": {
    "colab": {
      "provenance": [],
      "authorship_tag": "ABX9TyOvPZ1x1jwxnTom+joFhp19",
      "include_colab_link": true
    },
    "kernelspec": {
      "name": "python3",
      "display_name": "Python 3"
    },
    "language_info": {
      "name": "python"
    }
  },
  "cells": [
    {
      "cell_type": "markdown",
      "metadata": {
        "id": "view-in-github",
        "colab_type": "text"
      },
      "source": [
        "<a href=\"https://colab.research.google.com/github/santfan/module_13_1/blob/main/module_13_1.ipynb\" target=\"_parent\"><img src=\"https://colab.research.google.com/assets/colab-badge.svg\" alt=\"Open In Colab\"/></a>"
      ]
    },
    {
      "cell_type": "markdown",
      "source": [
        "# Домашняя работа \"Ассинхронные силачи\""
      ],
      "metadata": {
        "id": "mEN0__Y1X6rJ"
      }
    },
    {
      "cell_type": "code",
      "source": [
        "import asyncio"
      ],
      "metadata": {
        "id": "Xx5A9Mp4d4IW"
      },
      "execution_count": 1,
      "outputs": []
    },
    {
      "cell_type": "code",
      "source": [
        "# Функция силач\n",
        "async def start_strongman(name, power):\n",
        "  print(f'Силач {name} начал соревнование')\n",
        "  for i in range(1, 6):\n",
        "    await asyncio.sleep(1 / power)\n",
        "    print(f'Силач {name} поднял {i} шар')\n",
        "  print(f'Силач {name} закончил соревнование')"
      ],
      "metadata": {
        "id": "3A5_sP8ZTqNO"
      },
      "execution_count": 2,
      "outputs": []
    },
    {
      "cell_type": "code",
      "source": [
        "# Функция соревнования\n",
        "async def start_tournament():\n",
        "  task1 = asyncio.create_task(start_strongman('Apollon', 5))\n",
        "  task2 = asyncio.create_task(start_strongman('Denis', 4))\n",
        "  task3 = asyncio.create_task(start_strongman('Pasha', 3))\n",
        "  await task1\n",
        "  await task2\n",
        "  await task3"
      ],
      "metadata": {
        "id": "8ZojzIUNZ-RO"
      },
      "execution_count": 3,
      "outputs": []
    },
    {
      "cell_type": "code",
      "source": [
        "await start_tournament()"
      ],
      "metadata": {
        "colab": {
          "base_uri": "https://localhost:8080/"
        },
        "id": "fiBp7YGVaPpr",
        "outputId": "5c04ffa8-9d10-45fe-9b76-f60e63645455"
      },
      "execution_count": 4,
      "outputs": [
        {
          "output_type": "stream",
          "name": "stdout",
          "text": [
            "Силач Apollon начал соревнование\n",
            "Силач Denis начал соревнование\n",
            "Силач Pasha начал соревнование\n",
            "Силач Apollon поднял 1 шар\n",
            "Силач Denis поднял 1 шар\n",
            "Силач Pasha поднял 1 шар\n",
            "Силач Apollon поднял 2 шар\n",
            "Силач Denis поднял 2 шар\n",
            "Силач Apollon поднял 3 шар\n",
            "Силач Pasha поднял 2 шар\n",
            "Силач Denis поднял 3 шар\n",
            "Силач Apollon поднял 4 шар\n",
            "Силач Pasha поднял 3 шар\n",
            "Силач Denis поднял 4 шар\n",
            "Силач Apollon поднял 5 шар\n",
            "Силач Apollon закончил соревнование\n",
            "Силач Denis поднял 5 шар\n",
            "Силач Denis закончил соревнование\n",
            "Силач Pasha поднял 4 шар\n",
            "Силач Pasha поднял 5 шар\n",
            "Силач Pasha закончил соревнование\n"
          ]
        }
      ]
    },
    {
      "cell_type": "code",
      "source": [],
      "metadata": {
        "id": "Wfh8xV9Fa4Gb"
      },
      "execution_count": null,
      "outputs": []
    }
  ]
}